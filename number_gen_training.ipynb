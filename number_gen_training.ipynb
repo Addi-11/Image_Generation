{
  "nbformat": 4,
  "nbformat_minor": 0,
  "metadata": {
    "colab": {
      "name": "py-dcgan",
      "provenance": [],
      "private_outputs": true
    },
    "kernelspec": {
      "name": "python3",
      "display_name": "Python 3"
    },
    "accelerator": "GPU"
  },
  "cells": [
    {
      "cell_type": "code",
      "metadata": {
        "id": "B36_ZeB5tEcZ",
        "colab_type": "code",
        "colab": {}
      },
      "source": [
        "import tensorflow as tf\n",
        "\n",
        "device_name = tf.test.gpu_device_name()\n",
        "if device_name != '/device:GPU:0':\n",
        "  raise SystemError('GPU device not found')\n",
        "print('Found GPU at: {}'.format(device_name))"
      ],
      "execution_count": null,
      "outputs": []
    },
    {
      "cell_type": "code",
      "metadata": {
        "id": "7pFa9BHPcU39",
        "colab_type": "code",
        "colab": {}
      },
      "source": [
        "from generator import *\n",
        "from discriminator import *\n",
        "from utils import *\n",
        "from train import *"
      ],
      "execution_count": null,
      "outputs": []
    },
    {
      "cell_type": "code",
      "metadata": {
        "id": "YurTT6NGpCBf",
        "colab_type": "code",
        "colab": {}
      },
      "source": [
        "# Loading MNIST dataset\n",
        "(train_images, train_labels), (_,_) = tf.keras.datasets.mnist.load_data()"
      ],
      "execution_count": null,
      "outputs": []
    },
    {
      "cell_type": "code",
      "metadata": {
        "id": "1nzspl8npGr_",
        "colab_type": "code",
        "colab": {}
      },
      "source": [
        "train_images = normalise(train_images)"
      ],
      "execution_count": null,
      "outputs": []
    },
    {
      "cell_type": "code",
      "metadata": {
        "id": "PTgZRcJ0pR1T",
        "colab_type": "code",
        "colab": {}
      },
      "source": [
        "train_dataset = create_dataset(train_images, 60000)"
      ],
      "execution_count": null,
      "outputs": []
    },
    {
      "cell_type": "code",
      "metadata": {
        "id": "ElqjrmA_d62r",
        "colab_type": "code",
        "colab": {}
      },
      "source": [
        "# Generator model\n",
        "generator = Generator()\n",
        "\n",
        "# testing generator model\n",
        "noise = tf.random.normal([1,100])\n",
        "generated_img = generator.model(noise, training=False)\n",
        "print(generated_img.shape)\n",
        "plt.imshow(generated_img[0,:,:,0], cmap='gray')"
      ],
      "execution_count": null,
      "outputs": []
    },
    {
      "cell_type": "code",
      "metadata": {
        "id": "yiMHaAc8ebPA",
        "colab_type": "code",
        "colab": {}
      },
      "source": [
        "# Discriminator\n",
        "discriminator = Discriminator()\n",
        "\n",
        "# testing discriminator\n",
        "output = discriminator.model(generated_img)\n",
        "print(output)"
      ],
      "execution_count": null,
      "outputs": []
    },
    {
      "cell_type": "code",
      "metadata": {
        "id": "OHKNlr9tjQLv",
        "colab_type": "code",
        "colab": {}
      },
      "source": [
        "checkpoint, ckpt_dir, ckpt_pre = create_ckpt_dir(generator, discriminator)"
      ],
      "execution_count": null,
      "outputs": []
    },
    {
      "cell_type": "code",
      "metadata": {
        "id": "pqS7oUxAo4Vt",
        "colab_type": "code",
        "colab": {}
      },
      "source": [
        "train(train_dataset, generator, discriminator, checkpoint, ckpt_pre)"
      ],
      "execution_count": null,
      "outputs": []
    },
    {
      "cell_type": "code",
      "metadata": {
        "id": "UouwxWhGklRM",
        "colab_type": "code",
        "colab": {}
      },
      "source": [
        "checkpoint.restore(tf.train.latest_checkpoint(ckpt_dir))"
      ],
      "execution_count": null,
      "outputs": []
    },
    {
      "cell_type": "code",
      "metadata": {
        "id": "Zvs2quQP0dBA",
        "colab_type": "code",
        "colab": {}
      },
      "source": [
        "# testing the result\n",
        "noise = tf.random.normal([16,100])\n",
        "generate_and_save_images(generator.model, 1, noise)"
      ],
      "execution_count": null,
      "outputs": []
    }
  ]
}